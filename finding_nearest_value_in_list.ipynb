{
 "cells": [
  {
   "cell_type": "code",
   "execution_count": 12,
   "metadata": {},
   "outputs": [
    {
     "name": "stdout",
     "output_type": "stream",
     "text": [
      "28\n"
     ]
    }
   ],
   "source": [
    "def find_nearest_value(target, values):\n",
    "    nearest_value = None\n",
    "    smallest_difference = float('inf')\n",
    "\n",
    "    for value in values:\n",
    "        difference = abs(value - target)\n",
    "        if difference < smallest_difference:\n",
    "            smallest_difference = difference\n",
    "            nearest_value = value\n",
    "\n",
    "    return nearest_value\n",
    "\n",
    "# Example usage\n",
    "VOCCapselected = [15, 28, 26, 30, 56, 57, 58, 59]\n",
    "goodVOCCapValue = 27\n",
    "goodVOCCapValue = find_nearest_value(goodVOCCapValue, VOCCapselected)\n",
    "print(goodVOCCapValue)  # Output: 9\n"
   ]
  },
  {
   "cell_type": "code",
   "execution_count": 43,
   "metadata": {},
   "outputs": [],
   "source": [
    "BX0_rows =[3665, 3665, 3665, 3665, 3665, 3665, 3665, 3665, 3665, 3665,   -1,   -1,   -1,   -1,\n",
    "   -1,   -1,   -1,   -1,   -1,   -1,   -1,   -1,   -1,   -1,   -1,   -1]"
   ]
  },
  {
   "cell_type": "code",
   "execution_count": 38,
   "metadata": {},
   "outputs": [],
   "source": [
    "BX0_rows = False"
   ]
  },
  {
   "cell_type": "code",
   "execution_count": 44,
   "metadata": {},
   "outputs": [],
   "source": [
    "if  not BX0_rows:\n",
    "    print(\"pass\")"
   ]
  },
  {
   "cell_type": "code",
   "execution_count": 2,
   "metadata": {},
   "outputs": [],
   "source": [
    "x = [8,9,0]"
   ]
  },
  {
   "cell_type": "code",
   "execution_count": 10,
   "metadata": {},
   "outputs": [
    {
     "name": "stdout",
     "output_type": "stream",
     "text": [
      "j 0\n",
      "j 1\n",
      "j 0\n",
      "j 1\n",
      "pass3\n"
     ]
    }
   ],
   "source": [
    "for i in range(2):\n",
    "    for j in range(0,3):\n",
    "        \n",
    "        if j == 1:\n",
    "            print(\"j %d\"%j)\n",
    "            \n",
    "print(\"pass3\")"
   ]
  },
  {
   "cell_type": "code",
   "execution_count": 33,
   "metadata": {},
   "outputs": [],
   "source": [
    "import numpy as np\n",
    "def test(x):\n",
    "    if x < 2:\n",
    "        return x**2 \n",
    "def qs(x):\n",
    "    return np.sqrt(x)"
   ]
  },
  {
   "cell_type": "code",
   "execution_count": 34,
   "metadata": {},
   "outputs": [],
   "source": [
    "x = [-1,0,1,2]"
   ]
  },
  {
   "cell_type": "code",
   "execution_count": 36,
   "metadata": {},
   "outputs": [
    {
     "name": "stdout",
     "output_type": "stream",
     "text": [
      "1\n",
      "0\n",
      "1\n",
      "None\n"
     ]
    }
   ],
   "source": [
    "for i in range(len(x)):\n",
    "    print(test(x[i]))"
   ]
  },
  {
   "cell_type": "code",
   "execution_count": null,
   "metadata": {},
   "outputs": [],
   "source": []
  }
 ],
 "metadata": {
  "kernelspec": {
   "display_name": "Python 3",
   "language": "python",
   "name": "python3"
  },
  "language_info": {
   "codemirror_mode": {
    "name": "ipython",
    "version": 3
   },
   "file_extension": ".py",
   "mimetype": "text/x-python",
   "name": "python",
   "nbconvert_exporter": "python",
   "pygments_lexer": "ipython3",
   "version": "3.8.3"
  }
 },
 "nbformat": 4,
 "nbformat_minor": 4
}
