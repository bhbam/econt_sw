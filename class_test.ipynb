{
 "cells": [
  {
   "cell_type": "code",
   "execution_count": null,
   "metadata": {},
   "outputs": [],
   "source": []
  },
  {
   "cell_type": "code",
   "execution_count": 52,
   "metadata": {},
   "outputs": [
    {
     "name": "stdout",
     "output_type": "stream",
     "text": [
      "False\n",
      "False\n",
      "False\n",
      "False\n",
      "False\n",
      "False\n",
      "False\n",
      "False\n",
      "False\n",
      "False\n"
     ]
    }
   ],
   "source": [
    "class computer:\n",
    "    def __init__(self,a,b):\n",
    "        self.a = a\n",
    "        self.b = b\n",
    "        self.name = \"Bhim\"\n",
    "    def config(self):\n",
    "        print(self.a,self.b, self.name)\n",
    "        \n",
    "        \n",
    "for i in range(10):        \n",
    "    com1 = computer(\"-a\", \"-b\")\n",
    "    com2 = computer(\"-a\", \"-b\")\n",
    "#     print(com1 == com2)\n",
    "    print(id(com1)==id(com2))\n"
   ]
  },
  {
   "cell_type": "code",
   "execution_count": 94,
   "metadata": {},
   "outputs": [],
   "source": [
    "def singleton(class_intance):\n",
    "    instances = {}\n",
    "    def get_instances(*args, **kwargs):\n",
    "        if class_intance not in instances:\n",
    "            instances[class_intance] = class_intance(*args, **kwargs)\n",
    "        return instances[class_intance]\n",
    "    return get_instances\n",
    "\n"
   ]
  },
  {
   "cell_type": "code",
   "execution_count": 95,
   "metadata": {},
   "outputs": [
    {
     "name": "stdout",
     "output_type": "stream",
     "text": [
      "True\n",
      "True\n",
      "True\n",
      "True\n",
      "True\n",
      "True\n",
      "True\n",
      "True\n",
      "True\n",
      "True\n"
     ]
    }
   ],
   "source": [
    "@singleton\n",
    "class computer:\n",
    "    def __init__(self,a,b):\n",
    "        self.a = a\n",
    "        self.b = b\n",
    "        self.name = \"Bhim\"\n",
    "    def config(self):\n",
    "        print(self.a,self.b, self.name)\n",
    "        \n",
    "        \n",
    "        \n",
    "for i in range(10):        \n",
    "    com1 = computer(\"-a\", \"-b\")\n",
    "    com2 = computer(\"-a\", \"-c\")\n",
    "    print(id(com1)==id(com2))"
   ]
  },
  {
   "cell_type": "code",
   "execution_count": 96,
   "metadata": {},
   "outputs": [],
   "source": [
    "def singleton(class_instance):\n",
    "    instances = {}\n",
    "\n",
    "    def get_instance(*args, **kwargs):\n",
    "        key = (class_instance, tuple(args), tuple(kwargs.items()))\n",
    "        if key not in instances:\n",
    "            instances[key] = class_instance(*args, **kwargs)\n",
    "        return instances[key]\n",
    "\n",
    "    return get_instance\n"
   ]
  },
  {
   "cell_type": "code",
   "execution_count": 97,
   "metadata": {},
   "outputs": [
    {
     "name": "stdout",
     "output_type": "stream",
     "text": [
      "False\n",
      "False\n",
      "False\n",
      "False\n",
      "False\n",
      "False\n",
      "False\n",
      "False\n",
      "False\n",
      "False\n"
     ]
    }
   ],
   "source": [
    "\n",
    "@singleton\n",
    "class computer:\n",
    "    def __init__(self,a,b):\n",
    "        self.a = a\n",
    "        self.b = b\n",
    "        self.name = \"Bhim\"\n",
    "    def config(self):\n",
    "        print(self.a,self.b, self.name)\n",
    "        \n",
    "        \n",
    "        \n",
    "for i in range(10):        \n",
    "    com1 = computer(\"-a\", \"-b\")\n",
    "    com2 = computer(\"-a\", \"-c\")\n",
    "    print(id(com1)==id(com2))"
   ]
  },
  {
   "cell_type": "code",
   "execution_count": 93,
   "metadata": {},
   "outputs": [
    {
     "name": "stdout",
     "output_type": "stream",
     "text": [
      "False\n"
     ]
    }
   ],
   "source": [
    "instance1 = MyClass(\"Hello\", 123)\n",
    "instance2 = MyClass(\"Hello\", 123)\n",
    "# instance2 = MyClass(\"World\", 456)\n",
    "print(instance1==instance2)\n"
   ]
  },
  {
   "cell_type": "code",
   "execution_count": null,
   "metadata": {},
   "outputs": [],
   "source": []
  }
 ],
 "metadata": {
  "kernelspec": {
   "display_name": "Python 3",
   "language": "python",
   "name": "python3"
  },
  "language_info": {
   "codemirror_mode": {
    "name": "ipython",
    "version": 3
   },
   "file_extension": ".py",
   "mimetype": "text/x-python",
   "name": "python",
   "nbconvert_exporter": "python",
   "pygments_lexer": "ipython3",
   "version": "3.8.3"
  }
 },
 "nbformat": 4,
 "nbformat_minor": 4
}
